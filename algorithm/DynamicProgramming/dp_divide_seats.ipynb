{
 "cells": [
  {
   "cell_type": "markdown",
   "metadata": {},
   "source": [
    "[문제]  \n",
    "![algorithm-problem.png](../../img/algorithm-231129-01.png)  \n",
    "link: https://leetcode.com/problems/number-of-ways-to-divide-a-long-corridor/  "
   ]
  },
  {
   "cell_type": "markdown",
   "metadata": {},
   "source": [
    "\n",
    "풀이"
   ]
  },
  {
   "cell_type": "code",
   "execution_count": null,
   "metadata": {},
   "outputs": [],
   "source": [
    "# TODO\n",
    "class Solution:\n",
    "    def numberOfWays(self, corridor: str) -> int:\n",
    "        S = 1\n",
    "        partition = []\n",
    "        plant = 0\n",
    "\n",
    "        total_seats = corridor.count(\"S\") \n",
    "        if total_seats < 2 or total_seats % 2 :\n",
    "            return 0 \n",
    "\n",
    "        for e in corridor:\n",
    "            if e == \"S\":\n",
    "                S += 1\n",
    "                if S % 2:\n",
    "                    partition.append(plant)\n",
    "                    plant = 0\n",
    "            if S!=1 and S % 2:\n",
    "                plant += 1\n",
    "\n",
    "        result = 1\n",
    "        for value in partition:\n",
    "            if value == 0:\n",
    "                continue\n",
    "            result *= value\n",
    "        return result % (10**9 + 7)"
   ]
  },
  {
   "cell_type": "code",
   "execution_count": null,
   "metadata": {},
   "outputs": [],
   "source": [
    "class Solution:\n",
    "    def numberOfWays(self, s):\n",
    "        a, b, c = 1, 0, 0\n",
    "        for ch in s:\n",
    "            if ch == 'S':\n",
    "                a, b, c = 0, a + c, b\n",
    "            else:\n",
    "                a, b, c = a + c, b, c\n",
    "        return c % (10**9+7)  "
   ]
  },
  {
   "cell_type": "code",
   "execution_count": null,
   "metadata": {},
   "outputs": [],
   "source": [
    "class Solution:\n",
    "    def numberOfWays(self, s):\n",
    "        a = [i for i,c in enumerate(s) if c == 'S']\n",
    "        res = 1\n",
    "        for i in range(1,len(a) - 1,2):\n",
    "            res *= a[i+1] - a[i]\n",
    "        return res % (10**9+7) * (len(a) % 2 == 0 and len(a) >= 2)     "
   ]
  }
 ],
 "metadata": {
  "language_info": {
   "name": "python"
  }
 },
 "nbformat": 4,
 "nbformat_minor": 2
}
