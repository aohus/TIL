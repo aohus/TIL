{
 "cells": [
  {
   "cell_type": "markdown",
   "metadata": {},
   "source": [
    "[문제]  \n",
    "![algorithm-problem.png](../../img/algorithm-231129-01.png)  \n",
    "link: https://leetcode.com/problems/number-of-ways-to-divide-a-long-corridor/  "
   ]
  },
  {
   "cell_type": "markdown",
   "metadata": {},
   "source": [
    "풀이  \n",
    "1) 조건을 만족하지 못하는 경우\n",
    "- 전체 복도에 의자가 2개 이하이거나 홀수개이면 \"모든 구간에 의자가 반드시 2개\"있어야 한다는 조건을 만족할 수 없으므로 파티션의 경우의 수는 0이다. \n",
    "2) 의자가 짝수개인 경우\n",
    "- 의자 2개가 등장하고, 다음 의자가 등장할 때까지 식물의 수+1 만큼의 파티션의 경우의 수가 생긴다. \n",
    "- 파티션을 세울 수 있는 구간들의 파티션 가능한 수들끼리 곱하면 각 구간에 의자가 2개씩 있는 서로 다른 경우의 수를 구할 수 있다. "
   ]
  },
  {
   "cell_type": "code",
   "execution_count": null,
   "metadata": {},
   "outputs": [],
   "source": [
    "class Solution:\n",
    "    def numberOfWays(self, s):\n",
    "        a = [i for i,c in enumerate(s) if c == 'S']\n",
    "        res = 1\n",
    "        for i in range(1,len(a) - 1,2):\n",
    "            res *= a[i+1] - a[i]\n",
    "        return res % (10**9+7) * (len(a) % 2 == 0 and len(a) >= 2)     "
   ]
  },
  {
   "cell_type": "code",
   "execution_count": null,
   "metadata": {},
   "outputs": [],
   "source": [
    "class Solution:\n",
    "    def numberOfWays(self, s):\n",
    "        a, b, c = 1, 0, 0\n",
    "        for ch in s:\n",
    "            if ch == 'S':\n",
    "                a, b, c = 0, a + c, b\n",
    "            else:\n",
    "                a, b, c = a + c, b, c\n",
    "        return c % (10**9+7)  "
   ]
  }
 ],
 "metadata": {
  "language_info": {
   "name": "python"
  }
 },
 "nbformat": 4,
 "nbformat_minor": 2
}
