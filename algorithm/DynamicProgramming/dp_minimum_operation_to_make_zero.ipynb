{
 "cells": [
  {
   "cell_type": "markdown",
   "metadata": {},
   "source": [
    "[문제]  \n",
    "![algorithm-problem.png](../../img/algorithm-231130-01.png)  \n",
    "link: https://leetcode.com/problems/minimum-one-bit-operations-to-make-integers-zero/  "
   ]
  },
  {
   "cell_type": "markdown",
   "metadata": {},
   "source": [
    "[문제]\n",
    "십진수 n을 2진수로 변환한 후, 아래 두 연산을 사용하여 0으로 만드는데 필요한 최소 연산 수를 구하라.  \n",
    "\n",
    "**Operation 1: Change the rightmost bit of nnn to '0' or '1'.**  \n",
    "For example: 1000 to 1001.  \n",
    "Another example: 1001 to 1000.  \n",
    "\n",
    "**Opertation 2: Find the rightmost '1' and change a bit at the left side of the '1'.**  \n",
    "Example 1: Change 100110 to 100010.  \n",
    "Example 2: Change 100011 to 100001.  \n",
    "Example 3: Change 100100 to 101100.  \n",
    "\n",
    "[풀이]"
   ]
  },
  {
   "cell_type": "code",
   "execution_count": null,
   "metadata": {},
   "outputs": [],
   "source": [
    "class Solution:\n",
    "    def minimumOneBitOperations(self, n):\n",
    "        res = 0\n",
    "        while n:\n",
    "            res = -res - (n ^ (n - 1))\n",
    "            n &= n - 1\n",
    "        return abs(res)"
   ]
  }
 ],
 "metadata": {
  "language_info": {
   "name": "python"
  }
 },
 "nbformat": 4,
 "nbformat_minor": 2
}
