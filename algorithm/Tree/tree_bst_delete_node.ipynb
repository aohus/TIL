{
 "cells": [
  {
   "cell_type": "markdown",
   "metadata": {},
   "source": [
    "[문제]  \n",
    "![algorithm-problem.png](../../img/algorithm-240223-01.png)  \n",
    "link: https://leetcode.com/problems/delete-node-in-a-bst  "
   ]
  },
  {
   "cell_type": "markdown",
   "metadata": {},
   "source": [
    "[풀이]  \n",
    "다음 문제는, BST라는 자료구조의 특성을 이용한다. \n",
    "1) 삭제할 노드의 자식이 없는 경우  \n",
    "    - 해당 노드를 그냥 삭제해준다.  \n",
    "![algorithm-problem.png](../../img/algorithm-240223-02.png)  \n",
    "![algorithm-problem.png](../../img/algorithm-240223-03.png)  \n",
    "\n",
    "2) 삭제할 노드의 한 쪽에만 자식이 있는 경우  \n",
    "    - 삭제할 노드를 자식 노드로 대체해준다.  \n",
    "![algorithm-problem.png](../../img/algorithm-240223-04.png)  \n",
    "![algorithm-problem.png](../../img/algorithm-240223-05.png)  \n",
    "\n",
    "3) 삭제할 노드의 양쪽 모두 자식이 있는 경우  \n",
    "    - 다음 트리의 val == 16인 노드를 삭제한다고 하자.  \n",
    "    ![algorithm-problem.png](../../img/algorithm-240223-06.png)  \n",
    "    ![algorithm-problem.png](../../img/algorithm-240223-07.png)  \n",
    "    - 정렬된 트리인 BST의 특성상 16이 삭제된다면 트리는 재정렬 되어야하고 그 자리에는 아래 둘 중 하나의 값이 와야한다.\n",
    "        (1) 16보다 작은 값 중 가장 큰 값 == 14, 곧 왼쪽 서브트리에서 가장 큰 값 또는  \n",
    "        (2) 16보다 큰 값 중 가장 작은 값 == 17, 곧 오른쪽 서브트리에서 가장 작은 값  \n",
    "    ![algorithm-problem.png](../../img/algorithm-240223-08.png)  \n",
    "    - 둘 중 무엇을 택해도 상관없지만, 우선 (2)를 선택해보자. 17을 삭제할 노드의 값에 복사해준다.  \n",
    "    ![algorithm-problem.png](../../img/algorithm-240223-09.png)  \n",
    "    - 오른쪽 서브트리에 아직 17이 남아있기 때문에, 오른쪽 서브트리에서 17을 삭제해준다.(재귀)  \n",
    "    ![algorithm-problem.png](../../img/algorithm-240223-10.png)  \n",
    "    ![algorithm-problem.png](../../img/algorithm-240223-11.png)  \n",
    "\n",
    "이 문제를 재귀를 이용해서 풀었다. 재귀가 끝나는 지점은 삭제할 노드의 자식이 없거나, 삭제할 노드의 한 쪽에만 자식이 있는(`1)번, 2)번`)의 경우이고  \n",
    "삭제할 노드 양쪽 자식이 모두 있는 경우 (`3)번`)는 **오른쪽 서브트리에서 가장 장은 값을 삭제할 노드에 복사하고, 오른쪽 서브트리에서 가장 작은 값을 삭제(재귀)**하도록했다.  "
   ]
  },
  {
   "cell_type": "code",
   "execution_count": null,
   "metadata": {},
   "outputs": [],
   "source": [
    "class Solution:\n",
    "    def deleteNode(self, root, key):\n",
    "        # 1) 삭제할 노드의 자식이 없는 경우  \n",
    "        if not root: return None\n",
    "        \n",
    "        if root.val == key:\n",
    "            # 2) 삭제할 노드의 한 쪽에만 자식이 있는 경우  \n",
    "            if not root.right: return root.left\n",
    "            if not root.left: return root.right\n",
    "            \n",
    "            # 3) 삭제할 노드의 양쪽 모두 자식이 있는 경우  \n",
    "            if root.left and root.right:\n",
    "                # tmp = 오른쪽 서브트리\n",
    "                temp = root.right\n",
    "                # 오른쪽 서브트리의 가장 작은 값을 찾아서 root.val에 복사\n",
    "                while temp.left: temp = temp.left\n",
    "                root.val = temp.val\n",
    "                # 오른쪽 서브트리의 가장 작은 값 삭제(재귀)\n",
    "                root.right = self.deleteNode(root.right, root.val)\n",
    "\n",
    "        elif root.val > key:\n",
    "            root.left = self.deleteNode(root.left, key)\n",
    "        else:\n",
    "            root.right = self.deleteNode(root.right, key)\n",
    "            \n",
    "        return root"
   ]
  }
 ],
 "metadata": {
  "language_info": {
   "name": "python"
  }
 },
 "nbformat": 4,
 "nbformat_minor": 2
}
