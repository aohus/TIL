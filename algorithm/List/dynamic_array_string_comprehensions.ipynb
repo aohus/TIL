{
 "cells": [
  {
   "cell_type": "markdown",
   "metadata": {},
   "source": [
    "#### **문제**  \n",
    "\n",
    "link: https://leetcode.com/problems/string-compression/description  "
   ]
  },
  {
   "cell_type": "markdown",
   "metadata": {},
   "source": [
    "#### **풀이**  "
   ]
  },
  {
   "cell_type": "code",
   "execution_count": null,
   "metadata": {},
   "outputs": [
    {
     "ename": "",
     "evalue": "",
     "output_type": "error",
     "traceback": [
      "\u001b[1;31m'/usr/local/bin/python3.11'(으)로 셀을 실행하려면 ipykernel 패키지가 필요합니다.\n",
      "\u001b[1;31mRun the following command to install 'ipykernel' into the Python environment. \n",
      "\u001b[1;31mCommand: '/usr/local/bin/python3.11 -m pip install ipykernel -U --user --force-reinstall'"
     ]
    }
   ],
   "source": [
    "class Solution:\n",
    "    def compress(self, chars: List[str]) -> int:\n",
    "        walker, runner = 0, 0\n",
    "        while runner < len(chars):\n",
    "\t\t\n",
    "            chars[walker] = chars[runner]\n",
    "            count = 1\n",
    "\t\t\t\n",
    "            while runner + 1 < len(chars) and chars[runner] == chars[runner+1]:\n",
    "                runner += 1\n",
    "                count += 1\n",
    "\t\t\t\n",
    "            if count > 1:\n",
    "                for c in str(count):\n",
    "                    chars[walker+1] = c\n",
    "                    walker += 1\n",
    "            \n",
    "\t\t\trunner += 1\n",
    "            walker += 1\n",
    "        \n",
    "        return walker"
   ]
  },
  {
   "cell_type": "code",
   "execution_count": null,
   "metadata": {},
   "outputs": [],
   "source": []
  }
 ],
 "metadata": {
  "kernelspec": {
   "display_name": "Python 3",
   "language": "python",
   "name": "python3"
  },
  "language_info": {
   "name": "python",
   "version": "3.11.0"
  }
 },
 "nbformat": 4,
 "nbformat_minor": 2
}
