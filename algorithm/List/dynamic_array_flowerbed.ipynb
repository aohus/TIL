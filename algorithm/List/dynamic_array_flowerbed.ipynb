{
 "cells": [
  {
   "cell_type": "markdown",
   "metadata": {},
   "source": [
    "#### **문제**  \n",
    "\n",
    "문제는 식물 배치 정보인 `flowerbed`와 심어야하는 식물의 수 `n`이 주어진다.\n",
    "  \n",
    "`flowerbed = [1, 0, 0, 0, 1]`  \n",
    "위와 같이 주어진 flowerbed의 1은 식물이 심있음을 뜻하고, 0은 빈자리를 뜻한다.  \n",
    "식물은 연속해서 심을 수 없을 때, `n`개의 식물을 심을 수 있으면 True, 자리가 부족하면 False를 반환하라.  \n",
    "\n",
    "  \n",
    "link: https://leetcode.com/problems/can-place-flowers/description  "
   ]
  },
  {
   "cell_type": "markdown",
   "metadata": {},
   "source": [
    "#### **풀이**  \n",
    "- **컨셉: 식물을 심을 수 있는 자리에 심고, 심은 식물의 수를 `count`로 센다.**  \n",
    "- prev로 이전 자리에 식물이 있는지 기억한다. \n",
    "- flowerbed를 순회하며, **직전 자리가 비어있고(=prev가 0이면)** 현재 자리도 비어있으면 식물을 심고 `count+1` 한다.\n",
    "- 식물을 심었는데, 뒤에 식물이 있는 경우 `count-1` 해준다. \n",
    "\n",
    "마지막 count-1 해주는 부분이 중요하다.  \n",
    "- 식물을 심을 수 있는 조건은 '현재 자리'를 기준으로 양 옆이 모두 0 이어야한다. 따라서 연속된 3자리를 확인하고 count+1 해주어야한다.  \n",
    "- 하지만 현재 풀이에서는 '현재 자리' 직전이 0이면 우선 count+1을 해주고 있기 때문에, 그 다음 자리 확인시 조건을 만족하지 못하면 다시 count-1을 해주고 있다."
   ]
  },
  {
   "cell_type": "code",
   "execution_count": null,
   "metadata": {},
   "outputs": [
    {
     "ename": "",
     "evalue": "",
     "output_type": "error",
     "traceback": [
      "\u001b[1;31m'/usr/local/bin/python3.11'(으)로 셀을 실행하려면 ipykernel 패키지가 필요합니다.\n",
      "\u001b[1;31mRun the following command to install 'ipykernel' into the Python environment. \n",
      "\u001b[1;31mCommand: '/usr/local/bin/python3.11 -m pip install ipykernel -U --user --force-reinstall'"
     ]
    }
   ],
   "source": [
    "class Solution:\n",
    "    def canPlaceFlowers(self, flowerbed: List[int], n: int) -> bool:\n",
    "        count, prev = 0, 0\n",
    "\n",
    "        for cur in flowerbed:\n",
    "            # 지금 자리에 식물이 있는데 직전에 식물을 심은 경우, 식물을 뽑는다...(count-=1 해준다.) \n",
    "            if cur == 1:\n",
    "                if prev == 1:\n",
    "                    count -= 1\n",
    "                prev = 1\n",
    "            else:\n",
    "                # 현재 자리는 비어있으나(cur==0), 직전 자리에 식물이 있어 그냥 넘어간다. \n",
    "                if prev == 1: \n",
    "                    prev = 0 \n",
    "                # 직전 자리가 비어있고(prev==0) 현재 자리도 비어있으니(cur==0), \n",
    "                # 식물을 심을 수 있는 자리로 count 해주고 식물 심었다는 표시로 prev=1로 저장한다.\n",
    "                else:\n",
    "                    count += 1\n",
    "                    prev = 1 \n",
    "            \n",
    "        return count >= n"
   ]
  }
 ],
 "metadata": {
  "kernelspec": {
   "display_name": "Python 3",
   "language": "python",
   "name": "python3"
  },
  "language_info": {
   "name": "python",
   "version": "3.11.0"
  }
 },
 "nbformat": 4,
 "nbformat_minor": 2
}
