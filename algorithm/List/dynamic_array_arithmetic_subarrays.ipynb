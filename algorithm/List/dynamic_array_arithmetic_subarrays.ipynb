{
 "cells": [
  {
   "cell_type": "markdown",
   "metadata": {},
   "source": [
    "[문제]  \n",
    "![problem](../../img/algorithm-231123-01.png)  \n",
    "link: https://leetcode.com/problems/arithmetic-subarrays"
   ]
  },
  {
   "cell_type": "markdown",
   "metadata": {},
   "source": [
    "[풀이]"
   ]
  },
  {
   "cell_type": "code",
   "execution_count": null,
   "metadata": {},
   "outputs": [],
   "source": [
    "class Solution:\n",
    "    def checkArithmeticSubarrays(self, nums: List[int], l: List[int], r: List[int]) -> List[bool]:\n",
    "        answer = []\n",
    "        query_range = len(l)\n",
    "\n",
    "        def is_arithmetic(arr: List[int]) -> bool:\n",
    "            arr.sort()\n",
    "            diff = arr[1] - arr[0]\n",
    "            for i in range(2, len(arr)):\n",
    "                if arr[i] - sub_arr[i-1] != diff :\n",
    "                    return False\n",
    "            return True\n",
    "\n",
    "        for i in range(query_range):\n",
    "            sub_arr = nums[l[i]: r[i]+1]\n",
    "            result = is_arithmetic(sub_arr)\n",
    "            answer.append(result)\n",
    "        return answer\n",
    "\n"
   ]
  },
  {
   "cell_type": "code",
   "execution_count": null,
   "metadata": {},
   "outputs": [],
   "source": [
    "nums = [1, 3, 5, 7, 9]\n",
    "l = [0, 1, 2]\n",
    "r = [4, 3, 4]\n",
    "s = Solution()\n",
    "s.checkArithmeticSubarrays(nums, l, r)"
   ]
  }
 ],
 "metadata": {
  "kernelspec": {
   "display_name": "Python 3",
   "language": "python",
   "name": "python3"
  },
  "language_info": {
   "name": "python",
   "version": "3.8.5"
  }
 },
 "nbformat": 4,
 "nbformat_minor": 2
}
