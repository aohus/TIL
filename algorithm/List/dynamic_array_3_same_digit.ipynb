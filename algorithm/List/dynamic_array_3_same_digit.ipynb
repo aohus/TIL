{
 "cells": [
  {
   "cell_type": "markdown",
   "metadata": {},
   "source": [
    "[문제]  \n",
    "![algorithm-problem.png](../../img/algorithm-231204-01.png)  \n",
    "link: https://leetcode.com/problems/largest-3-same-digit-number-in-string/  "
   ]
  },
  {
   "cell_type": "markdown",
   "metadata": {},
   "source": [
    "[풀이] \n",
    "문제 그대로 풀면 되는 문제였다. \n",
    "- 같은 숫자가 3개 연속인지 확인\n",
    "- 3개 연속인 숫자가 2개 이상이면 더 큰 수를 채택함."
   ]
  },
  {
   "cell_type": "code",
   "execution_count": null,
   "metadata": {},
   "outputs": [],
   "source": [
    "class Solution:\n",
    "    def largestGoodInteger(self, num: str) -> str:\n",
    "        goodInt=-1\n",
    "        for i in range(len(num)-2):\n",
    "            # 같은 숫자가 3개 연속인지 확인\n",
    "            q, r = divmod(int(num[i:i+3]),111) # 그냥 if n[i]==n[i+1]==n[i+2] 가 훨씬 직관적인 풀이\n",
    "            if r==0 :\n",
    "                # 3개 연속인 숫자가 2개 이상이면 더 큰 수를 채택함.\n",
    "                goodInt = max(goodInt, q)\n",
    "\n",
    "        return \"\" if goodInt == -1 else str(goodInt)*3"
   ]
  }
 ],
 "metadata": {
  "language_info": {
   "name": "python"
  }
 },
 "nbformat": 4,
 "nbformat_minor": 2
}
