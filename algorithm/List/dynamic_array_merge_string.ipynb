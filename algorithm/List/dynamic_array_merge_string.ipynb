{
 "cells": [
  {
   "cell_type": "markdown",
   "metadata": {},
   "source": [
    "[문제]  \n",
    "![algorithm-problem.png](../../img/algorithm-240101-02.png)  \n",
    "link: https://leetcode.com/problems/merge-strings-alternately/description/  "
   ]
  },
  {
   "cell_type": "markdown",
   "metadata": {},
   "source": [
    "풀이"
   ]
  },
  {
   "cell_type": "code",
   "execution_count": null,
   "metadata": {},
   "outputs": [],
   "source": [
    "class Solution:\n",
    "    def mergeAlternately(self, word1: str, word2: str) -> str:\n",
    "        common = min(len(word1), len(word2))\n",
    "        result = \"\"\n",
    "        for i in range(common):\n",
    "            result += word1[i]\n",
    "            result += word2[i]\n",
    "        result += word1[common:]\n",
    "        result += word2[common:]\n",
    "        return result"
   ]
  }
 ],
 "metadata": {
  "language_info": {
   "name": "python"
  }
 },
 "nbformat": 4,
 "nbformat_minor": 2
}
