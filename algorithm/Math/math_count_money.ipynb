{
 "cells": [
  {
   "cell_type": "markdown",
   "metadata": {},
   "source": [
    "[문제]  \n",
    "![algorithm-problem.png](../../img/algorithm-231206-01.png)  \n",
    "link: https://leetcode.com/problems/calculate-money-in-leetcode-bank    "
   ]
  },
  {
   "cell_type": "markdown",
   "metadata": {},
   "source": [
    "[풀이]\n",
    "1) 7일 모두 입금한 주와 7일을 다 채우지 않은 마지막 주로 나누어 계산한다. \n",
    "2) 7일 모두 입금한 주는 등차수열의 합 공식으로 계산한다.\n",
    "**n=24 인 예)**  \n",
    "(1+2+3+4+5+6+7)  \n",
    "\\+ (2+3+4+5+6+7+8)  \n",
    "\\+ (3+4+5+6+7+8+9)  \n",
    "=   \n",
    "(1+2+3+4+5+6+7)  \n",
    "\\+ (1+2+3+4+5+6+7) + 7  \n",
    "\\+ (1+2+3+4+5+6+7) + 7*2  \n",
    "3) 7일을 다 채우지 않은 마지막 주  \n",
    "(4+5+6) = (1+2+3) + (마지막 주 입금한 날 수 * week)"
   ]
  },
  {
   "cell_type": "code",
   "execution_count": null,
   "metadata": {},
   "outputs": [],
   "source": [
    "class Solution:\n",
    "    def totalMoney(self, n: int) -> int:\n",
    "        week, left = divmod(n, 7)\n",
    "        fullWeekSum = week * 27 + week * (week -1) // 2 * 7\n",
    "        lastWeekSum = sum([i for i in range(1, left+1)]) + (left+1) * week\n",
    "        return fullWeekSum + lastWeekSum"
   ]
  }
 ],
 "metadata": {
  "language_info": {
   "name": "python"
  }
 },
 "nbformat": 4,
 "nbformat_minor": 2
}
