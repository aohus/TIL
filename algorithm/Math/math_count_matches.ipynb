{
 "cells": [
  {
   "cell_type": "markdown",
   "metadata": {},
   "source": [
    "[문제]  \n",
    "![algorithm-problem.png](../../img/algorithm-231205-01.png)  \n",
    "link: https://leetcode.com/problems/count-of-matches-in-tournament  "
   ]
  },
  {
   "cell_type": "markdown",
   "metadata": {},
   "source": [
    "[풀이]\n",
    "토너먼트 경기에서는 n개의 팀 중 우승한 팀을 제외하고 모든 팀은 1회씩 지게된다.(토너먼트는 한 번 지면 떨어지는 형식이다.)\n",
    "결국 n개의 팀이 결승까지 치르는 총 경기 수는 n-1 회이다."
   ]
  },
  {
   "cell_type": "code",
   "execution_count": null,
   "metadata": {},
   "outputs": [],
   "source": [
    "class Solution:\n",
    "    def numberOfMatches(self, n: int) -> int:\n",
    "        return n-1"
   ]
  }
 ],
 "metadata": {
  "language_info": {
   "name": "python"
  }
 },
 "nbformat": 4,
 "nbformat_minor": 2
}
