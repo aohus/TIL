{
 "cells": [
  {
   "cell_type": "markdown",
   "metadata": {},
   "source": [
    "[문제]  \n",
    "![algorithm-graph-0.png](../../img/algorithm-graph-0.png)  \n",
    "link: https://leetcode.com/problems/diagonal-traverse-ii  "
   ]
  },
  {
   "cell_type": "markdown",
   "metadata": {},
   "source": [
    "## bfs 풀이\n",
    "- 첫번째 열 -> 아래칸, 오른쪽 칸 추가\n",
    "- 나머지 열 -> 오른쪽 칸 추가\n",
    "\n",
    "![algorithim-graph-1](../../img/algorithm-graph-1.png)"
   ]
  },
  {
   "cell_type": "code",
   "execution_count": null,
   "metadata": {},
   "outputs": [],
   "source": [
    "\n",
    "from collections import defaultdict, deque\n",
    "from typing import List\n",
    "\n",
    "\n",
    "class Solution:\n",
    "    def findDiagonalOrderBfs(self, nums: List[List[int]]) -> List[int]:\n",
    "        ans = []\n",
    "        m = len(nums)\n",
    "\n",
    "        queue = deque([(0, 0)])\n",
    "        while queue:\n",
    "            row, col = queue.popleft()\n",
    "            ans.append(nums[row][col])\n",
    "\n",
    "            # 첫번째 열이면, 현재 위치 바로 아래칸(row+1, col) 추가\n",
    "            if col == 0 and row + 1 < m:\n",
    "                queue.append((row + 1, col))\n",
    "\n",
    "            # 현재 위치 바로 오른쪽 칸(row, col+1) 추가\n",
    "            if col + 1 < len(nums[row]):\n",
    "                queue.append((row, col + 1))\n",
    "\n",
    "        return ans\n"
   ]
  },
  {
   "cell_type": "markdown",
   "metadata": {},
   "source": [
    "## hash table 이용한 풀이\n",
    "- 행렬의 (0,0) 부터 (1,0), (0,1), (2,0), (1,1), (0,2) ... 로 이어지는 대각선을 그려가며 원소가 존재한다면 새로운 list에 추가.\n",
    "- i번째 행, j번째 열에 있는 원소를 a_ij라고 하자.\n",
    "- 같은 대각선에 있는 원소들의 i+j 는 동일하다. \n",
    "- 그래프 위치의 행, 열 합(i+j)을 key로 value를 list에 저장한다. \n",
    "- 최종 list에는 대각선의 합이 0인 원소들, 즉 key가 0인 원소들부터 차례로 저장된다.\n",
    "- 현재 value list는 j가 가장 작은 원소가 먼저 저장되어 있는데, 대각선의 진행 순서를 보면 j가 큰 원소부터 저장하기 때문에, 각 value list를 reverse 해서 저장한다.  \n",
    "![algorithim-graph-2](../../img/algorithm-graph-2.png)"
   ]
  },
  {
   "cell_type": "code",
   "execution_count": null,
   "metadata": {},
   "outputs": [],
   "source": [
    "\n",
    "from collections import defaultdict, deque\n",
    "from typing import List\n",
    "\n",
    "\n",
    "class Solution:\n",
    "    def findDiagonalOrderHash(self, nums: List[List[int]]) -> List[int]:\n",
    "        diagonal_dict = defaultdict(list)\n",
    "        for i, row in enumerate(nums):\n",
    "            for j, num in enumerate(row):\n",
    "                diagonal_dict[i + j].append(num)\n",
    "\n",
    "        result = []\n",
    "        for k in sorted(diagonal_dict.keys()):\n",
    "            result.extend(diagonal_dict[k][::-1])  # 뒤집어서 추가\n",
    "\n",
    "        return result"
   ]
  }
 ],
 "metadata": {
  "language_info": {
   "name": "python"
  }
 },
 "nbformat": 4,
 "nbformat_minor": 2
}
